{
 "cells": [
  {
   "cell_type": "markdown",
   "metadata": {},
   "source": [
    "## 财务分析\n",
    "\n",
    "近3年营收增长率分别为12.5%，8.51%，7.70%，年复合增长约为 9.5%。\n",
    "\n",
    "从资产规模来看，近5年"
   ]
  },
  {
   "cell_type": "code",
   "execution_count": 2,
   "metadata": {},
   "outputs": [],
   "source": [
    "import pandas as pd\n",
    "\n",
    "url = \"https://dataframe.oss-cn-beijing.aliyuncs.com/banks.xlsx\"\n",
    "df = pd.read_excel(url,sheet_name='招商银行', index_col=0)\n",
    "\n",
    "df.columns= pd.to_datetime(df.columns, format='%Y%m%d')\n",
    "df.columns\n",
    "\n",
    "# prds = len(df.columns)\n",
    "# pidx = pd.date_range(end='20191231', periods=5, freq='Y')\n",
    "\n",
    "# yearly data\n",
    "adf = df.loc[:, df.columns.is_year_end]"
   ]
  },
  {
   "cell_type": "markdown",
   "metadata": {},
   "source": [
    "## 主要函数介绍\n",
    "\n",
    "- **resample**：分组计算，类似于 **groudby**\n",
    "- **pct_change**: 同比计算\n",
    "- **diff**\n",
    "- **shift**\n"
   ]
  },
  {
   "cell_type": "code",
   "execution_count": 7,
   "metadata": {},
   "outputs": [
    {
     "data": {
      "text/html": [
       "<div>\n",
       "<style scoped>\n",
       "    .dataframe tbody tr th:only-of-type {\n",
       "        vertical-align: middle;\n",
       "    }\n",
       "\n",
       "    .dataframe tbody tr th {\n",
       "        vertical-align: top;\n",
       "    }\n",
       "\n",
       "    .dataframe thead th {\n",
       "        text-align: right;\n",
       "    }\n",
       "</style>\n",
       "<table border=\"1\" class=\"dataframe\">\n",
       "  <thead>\n",
       "    <tr style=\"text-align: right;\">\n",
       "      <th></th>\n",
       "      <th>2012-12-31</th>\n",
       "      <th>2013-12-31</th>\n",
       "      <th>2014-12-31</th>\n",
       "      <th>2015-12-31</th>\n",
       "      <th>2016-12-31</th>\n",
       "      <th>2017-12-31</th>\n",
       "      <th>2018-12-31</th>\n",
       "      <th>2019-12-31</th>\n",
       "    </tr>\n",
       "  </thead>\n",
       "  <tbody>\n",
       "    <tr>\n",
       "      <th>营业收入</th>\n",
       "      <td>113367.0</td>\n",
       "      <td>132604.0</td>\n",
       "      <td>165863.0</td>\n",
       "      <td>201471.0</td>\n",
       "      <td>209025.0</td>\n",
       "      <td>220897.0</td>\n",
       "      <td>248555.0</td>\n",
       "      <td>269703.0</td>\n",
       "    </tr>\n",
       "    <tr>\n",
       "      <th>净利息收入</th>\n",
       "      <td>88374.0</td>\n",
       "      <td>98913.0</td>\n",
       "      <td>117202.0</td>\n",
       "      <td>136729.0</td>\n",
       "      <td>134595.0</td>\n",
       "      <td>144852.0</td>\n",
       "      <td>160384.0</td>\n",
       "      <td>173090.0</td>\n",
       "    </tr>\n",
       "    <tr>\n",
       "      <th>净手续费及佣金收入</th>\n",
       "      <td>19739.0</td>\n",
       "      <td>29184.0</td>\n",
       "      <td>39494.0</td>\n",
       "      <td>53419.0</td>\n",
       "      <td>74430.0</td>\n",
       "      <td>64018.0</td>\n",
       "      <td>66480.0</td>\n",
       "      <td>71493.0</td>\n",
       "    </tr>\n",
       "    <tr>\n",
       "      <th>营业支出</th>\n",
       "      <td>-54260.0</td>\n",
       "      <td>-64693.0</td>\n",
       "      <td>-93094.0</td>\n",
       "      <td>-127223.0</td>\n",
       "      <td>-131307.0</td>\n",
       "      <td>-130357.0</td>\n",
       "      <td>-141947.0</td>\n",
       "      <td>-152656.0</td>\n",
       "    </tr>\n",
       "    <tr>\n",
       "      <th>营业税及附加</th>\n",
       "      <td>-7555.0</td>\n",
       "      <td>-8579.0</td>\n",
       "      <td>-10425.0</td>\n",
       "      <td>-11929.0</td>\n",
       "      <td>-6362.0</td>\n",
       "      <td>-2152.0</td>\n",
       "      <td>-2132.0</td>\n",
       "      <td>-2348.0</td>\n",
       "    </tr>\n",
       "  </tbody>\n",
       "</table>\n",
       "</div>"
      ],
      "text/plain": [
       "           2012-12-31  2013-12-31  2014-12-31  2015-12-31  2016-12-31  \\\n",
       "营业收入         113367.0    132604.0    165863.0    201471.0    209025.0   \n",
       "净利息收入         88374.0     98913.0    117202.0    136729.0    134595.0   \n",
       "净手续费及佣金收入     19739.0     29184.0     39494.0     53419.0     74430.0   \n",
       "营业支出         -54260.0    -64693.0    -93094.0   -127223.0   -131307.0   \n",
       "营业税及附加        -7555.0     -8579.0    -10425.0    -11929.0     -6362.0   \n",
       "\n",
       "           2017-12-31  2018-12-31  2019-12-31  \n",
       "营业收入         220897.0    248555.0    269703.0  \n",
       "净利息收入        144852.0    160384.0    173090.0  \n",
       "净手续费及佣金收入     64018.0     66480.0     71493.0  \n",
       "营业支出        -130357.0   -141947.0   -152656.0  \n",
       "营业税及附加        -2152.0     -2132.0     -2348.0  "
      ]
     },
     "execution_count": 7,
     "metadata": {},
     "output_type": "execute_result"
    }
   ],
   "source": [
    "# 计算年度复合收益率\n",
    "def cagr(indicator: pd.Series, years: int):\n",
    "  chgs = indicator.pct_change(years) + 1\n",
    "  return(chgs.pow(1/years) -1)\n",
    "\n",
    "cagr(adf.loc['营业收入'], 3)\n",
    "df.loc[:, df.columns.is_year_end].head()"
   ]
  }
 ],
 "metadata": {
  "interpreter": {
   "hash": "47f8c2f8feb94dbc3ffec9d9b80ad3189bb751c4b289a6a01b6439f7768b1e1f"
  },
  "kernelspec": {
   "display_name": "Python 3.8.8 64-bit ('base': conda)",
   "name": "python3"
  },
  "language_info": {
   "codemirror_mode": {
    "name": "ipython",
    "version": 3
   },
   "file_extension": ".py",
   "mimetype": "text/x-python",
   "name": "python",
   "nbconvert_exporter": "python",
   "pygments_lexer": "ipython3",
   "version": "3.8.8"
  },
  "orig_nbformat": 4
 },
 "nbformat": 4,
 "nbformat_minor": 2
}
