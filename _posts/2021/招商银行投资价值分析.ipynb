{
 "cells": [
  {
   "cell_type": "markdown",
   "metadata": {},
   "source": [
    "## 财务分析\n",
    "\n",
    "近3年营收增长率分别为12.5%，8.51%，7.70%，年复合增长约为 9.5%。\n",
    "\n",
    "从资产规模来看，近5年"
   ]
  },
  {
   "cell_type": "code",
   "execution_count": 2,
   "metadata": {},
   "outputs": [],
   "source": [
    "import pandas as pd\n",
    "\n",
    "url = \"https://dataframe.oss-cn-beijing.aliyuncs.com/banks.xlsx\"\n",
    "df = pd.read_excel(url,sheet_name='招商银行', index_col=0)\n",
    "\n",
    "df.columns= pd.to_datetime(df.columns, format='%Y%m%d')\n",
    "df.columns\n",
    "\n",
    "prds = len(df.columns)\n",
    "pidx = pd.date_range(end='20191231', periods=5, freq='Y')\n",
    "\n",
    "# yearly data\n",
    "adf = df.loc[:, df.columns.is_year_end]"
   ]
  },
  {
   "cell_type": "markdown",
   "metadata": {},
   "source": [
    "## 主要函数介绍\n",
    "\n",
    "- **resample**：分组计算，类似于 **groudby**\n",
    "- **pct_change**: 同比计算\n",
    "- **diff**\n",
    "- **shift**\n"
   ]
  },
  {
   "cell_type": "code",
   "execution_count": 3,
   "metadata": {},
   "outputs": [
    {
     "data": {
      "text/plain": [
       "2012-12-31         NaN\n",
       "2013-12-31         NaN\n",
       "2014-12-31         NaN\n",
       "2015-12-31    0.211273\n",
       "2016-12-31    0.163806\n",
       "2017-12-31    0.100221\n",
       "2018-12-31    0.072515\n",
       "2019-12-31    0.088669\n",
       "Name: 营业收入, dtype: float64"
      ]
     },
     "execution_count": 3,
     "metadata": {},
     "output_type": "execute_result"
    }
   ],
   "source": [
    "# 计算年度复合收益率\n",
    "def cagr(indicator: pd.Series, years: int):\n",
    "  chgs = indicator.pct_change(years) + 1\n",
    "  return(chgs.pow(1/years) -1)\n",
    "\n",
    "cagr(adf.loc['营业收入'], 3)"
   ]
  }
 ],
 "metadata": {
  "interpreter": {
   "hash": "fda50a47067957aca722de0f7e4c0b26410016df22f5cb166fa97b67da90b19e"
  },
  "kernelspec": {
   "display_name": "Python 3.7.4 64-bit ('base': conda)",
   "name": "python3"
  },
  "language_info": {
   "codemirror_mode": {
    "name": "ipython",
    "version": 3
   },
   "file_extension": ".py",
   "mimetype": "text/x-python",
   "name": "python",
   "nbconvert_exporter": "python",
   "pygments_lexer": "ipython3",
   "version": "3.7.4"
  },
  "orig_nbformat": 4
 },
 "nbformat": 4,
 "nbformat_minor": 2
}
